{
 "cells": [
  {
   "cell_type": "markdown",
   "metadata": {},
   "source": [
    "# Data Cleaning Process"
   ]
  },
  {
   "cell_type": "code",
   "execution_count": 10,
   "metadata": {},
   "outputs": [],
   "source": [
    "import pandas as pd\n",
    "import numpy as np\n",
    "from matplotlib import pyplot as plt\n",
    "%matplotlib inline\n",
    "import matplotlib\n",
    "matplotlib.rcParams[\"figure.figsize\"] = (20,10)"
   ]
  },
  {
   "cell_type": "markdown",
   "metadata": {},
   "source": [
    "Load the data and see the first few rows of the data to understand the data structure."
   ]
  },
  {
   "cell_type": "code",
   "execution_count": 4,
   "metadata": {},
   "outputs": [
    {
     "data": {
      "text/html": [
       "<div>\n",
       "<style scoped>\n",
       "    .dataframe tbody tr th:only-of-type {\n",
       "        vertical-align: middle;\n",
       "    }\n",
       "\n",
       "    .dataframe tbody tr th {\n",
       "        vertical-align: top;\n",
       "    }\n",
       "\n",
       "    .dataframe thead th {\n",
       "        text-align: right;\n",
       "    }\n",
       "</style>\n",
       "<table border=\"1\" class=\"dataframe\">\n",
       "  <thead>\n",
       "    <tr style=\"text-align: right;\">\n",
       "      <th></th>\n",
       "      <th>BROKERTITLE</th>\n",
       "      <th>TYPE</th>\n",
       "      <th>PRICE</th>\n",
       "      <th>BEDS</th>\n",
       "      <th>BATH</th>\n",
       "      <th>PROPERTYSQFT</th>\n",
       "      <th>ADDRESS</th>\n",
       "      <th>STATE</th>\n",
       "      <th>MAIN_ADDRESS</th>\n",
       "      <th>ADMINISTRATIVE_AREA_LEVEL_2</th>\n",
       "      <th>LOCALITY</th>\n",
       "      <th>SUBLOCALITY</th>\n",
       "      <th>STREET_NAME</th>\n",
       "      <th>LONG_NAME</th>\n",
       "      <th>FORMATTED_ADDRESS</th>\n",
       "      <th>LATITUDE</th>\n",
       "      <th>LONGITUDE</th>\n",
       "    </tr>\n",
       "  </thead>\n",
       "  <tbody>\n",
       "    <tr>\n",
       "      <th>0</th>\n",
       "      <td>Brokered by Douglas Elliman  -111 Fifth Ave</td>\n",
       "      <td>Condo for sale</td>\n",
       "      <td>315000</td>\n",
       "      <td>2</td>\n",
       "      <td>2.000000</td>\n",
       "      <td>1400.0</td>\n",
       "      <td>2 E 55th St Unit 803</td>\n",
       "      <td>New York, NY 10022</td>\n",
       "      <td>2 E 55th St Unit 803New York, NY 10022</td>\n",
       "      <td>New York County</td>\n",
       "      <td>New York</td>\n",
       "      <td>Manhattan</td>\n",
       "      <td>East 55th Street</td>\n",
       "      <td>Regis Residence</td>\n",
       "      <td>Regis Residence, 2 E 55th St #803, New York, N...</td>\n",
       "      <td>40.761255</td>\n",
       "      <td>-73.974483</td>\n",
       "    </tr>\n",
       "    <tr>\n",
       "      <th>1</th>\n",
       "      <td>Brokered by Serhant</td>\n",
       "      <td>Condo for sale</td>\n",
       "      <td>195000000</td>\n",
       "      <td>7</td>\n",
       "      <td>10.000000</td>\n",
       "      <td>17545.0</td>\n",
       "      <td>Central Park Tower Penthouse-217 W 57th New Yo...</td>\n",
       "      <td>New York, NY 10019</td>\n",
       "      <td>Central Park Tower Penthouse-217 W 57th New Yo...</td>\n",
       "      <td>United States</td>\n",
       "      <td>New York</td>\n",
       "      <td>New York County</td>\n",
       "      <td>New York</td>\n",
       "      <td>West 57th Street</td>\n",
       "      <td>217 W 57th St, New York, NY 10019, USA</td>\n",
       "      <td>40.766393</td>\n",
       "      <td>-73.980991</td>\n",
       "    </tr>\n",
       "    <tr>\n",
       "      <th>2</th>\n",
       "      <td>Brokered by Sowae Corp</td>\n",
       "      <td>House for sale</td>\n",
       "      <td>260000</td>\n",
       "      <td>4</td>\n",
       "      <td>2.000000</td>\n",
       "      <td>2015.0</td>\n",
       "      <td>620 Sinclair Ave</td>\n",
       "      <td>Staten Island, NY 10312</td>\n",
       "      <td>620 Sinclair AveStaten Island, NY 10312</td>\n",
       "      <td>United States</td>\n",
       "      <td>New York</td>\n",
       "      <td>Richmond County</td>\n",
       "      <td>Staten Island</td>\n",
       "      <td>Sinclair Avenue</td>\n",
       "      <td>620 Sinclair Ave, Staten Island, NY 10312, USA</td>\n",
       "      <td>40.541805</td>\n",
       "      <td>-74.196109</td>\n",
       "    </tr>\n",
       "    <tr>\n",
       "      <th>3</th>\n",
       "      <td>Brokered by COMPASS</td>\n",
       "      <td>Condo for sale</td>\n",
       "      <td>69000</td>\n",
       "      <td>3</td>\n",
       "      <td>1.000000</td>\n",
       "      <td>445.0</td>\n",
       "      <td>2 E 55th St Unit 908W33</td>\n",
       "      <td>Manhattan, NY 10022</td>\n",
       "      <td>2 E 55th St Unit 908W33Manhattan, NY 10022</td>\n",
       "      <td>United States</td>\n",
       "      <td>New York</td>\n",
       "      <td>New York County</td>\n",
       "      <td>New York</td>\n",
       "      <td>East 55th Street</td>\n",
       "      <td>2 E 55th St, New York, NY 10022, USA</td>\n",
       "      <td>40.761398</td>\n",
       "      <td>-73.974613</td>\n",
       "    </tr>\n",
       "    <tr>\n",
       "      <th>4</th>\n",
       "      <td>Brokered by Sotheby's International Realty - E...</td>\n",
       "      <td>Townhouse for sale</td>\n",
       "      <td>55000000</td>\n",
       "      <td>7</td>\n",
       "      <td>2.373861</td>\n",
       "      <td>14175.0</td>\n",
       "      <td>5 E 64th St</td>\n",
       "      <td>New York, NY 10065</td>\n",
       "      <td>5 E 64th StNew York, NY 10065</td>\n",
       "      <td>United States</td>\n",
       "      <td>New York</td>\n",
       "      <td>New York County</td>\n",
       "      <td>New York</td>\n",
       "      <td>East 64th Street</td>\n",
       "      <td>5 E 64th St, New York, NY 10065, USA</td>\n",
       "      <td>40.767224</td>\n",
       "      <td>-73.969856</td>\n",
       "    </tr>\n",
       "  </tbody>\n",
       "</table>\n",
       "</div>"
      ],
      "text/plain": [
       "                                         BROKERTITLE                TYPE  \\\n",
       "0        Brokered by Douglas Elliman  -111 Fifth Ave      Condo for sale   \n",
       "1                                Brokered by Serhant      Condo for sale   \n",
       "2                             Brokered by Sowae Corp      House for sale   \n",
       "3                                Brokered by COMPASS      Condo for sale   \n",
       "4  Brokered by Sotheby's International Realty - E...  Townhouse for sale   \n",
       "\n",
       "       PRICE  BEDS       BATH  PROPERTYSQFT  \\\n",
       "0     315000     2   2.000000        1400.0   \n",
       "1  195000000     7  10.000000       17545.0   \n",
       "2     260000     4   2.000000        2015.0   \n",
       "3      69000     3   1.000000         445.0   \n",
       "4   55000000     7   2.373861       14175.0   \n",
       "\n",
       "                                             ADDRESS                    STATE  \\\n",
       "0                               2 E 55th St Unit 803       New York, NY 10022   \n",
       "1  Central Park Tower Penthouse-217 W 57th New Yo...       New York, NY 10019   \n",
       "2                                   620 Sinclair Ave  Staten Island, NY 10312   \n",
       "3                            2 E 55th St Unit 908W33      Manhattan, NY 10022   \n",
       "4                                        5 E 64th St       New York, NY 10065   \n",
       "\n",
       "                                        MAIN_ADDRESS  \\\n",
       "0             2 E 55th St Unit 803New York, NY 10022   \n",
       "1  Central Park Tower Penthouse-217 W 57th New Yo...   \n",
       "2            620 Sinclair AveStaten Island, NY 10312   \n",
       "3         2 E 55th St Unit 908W33Manhattan, NY 10022   \n",
       "4                      5 E 64th StNew York, NY 10065   \n",
       "\n",
       "  ADMINISTRATIVE_AREA_LEVEL_2  LOCALITY      SUBLOCALITY       STREET_NAME  \\\n",
       "0             New York County  New York        Manhattan  East 55th Street   \n",
       "1               United States  New York  New York County          New York   \n",
       "2               United States  New York  Richmond County     Staten Island   \n",
       "3               United States  New York  New York County          New York   \n",
       "4               United States  New York  New York County          New York   \n",
       "\n",
       "          LONG_NAME                                  FORMATTED_ADDRESS  \\\n",
       "0   Regis Residence  Regis Residence, 2 E 55th St #803, New York, N...   \n",
       "1  West 57th Street             217 W 57th St, New York, NY 10019, USA   \n",
       "2   Sinclair Avenue     620 Sinclair Ave, Staten Island, NY 10312, USA   \n",
       "3  East 55th Street               2 E 55th St, New York, NY 10022, USA   \n",
       "4  East 64th Street               5 E 64th St, New York, NY 10065, USA   \n",
       "\n",
       "    LATITUDE  LONGITUDE  \n",
       "0  40.761255 -73.974483  \n",
       "1  40.766393 -73.980991  \n",
       "2  40.541805 -74.196109  \n",
       "3  40.761398 -73.974613  \n",
       "4  40.767224 -73.969856  "
      ]
     },
     "execution_count": 4,
     "metadata": {},
     "output_type": "execute_result"
    }
   ],
   "source": [
    "df1 = pd.read_csv(\"NY-House-Dataset.csv\")\n",
    "df1.head()"
   ]
  },
  {
   "cell_type": "markdown",
   "metadata": {},
   "source": [
    "Diplay the shape of the dataset"
   ]
  },
  {
   "cell_type": "code",
   "execution_count": 6,
   "metadata": {},
   "outputs": [
    {
     "data": {
      "text/plain": [
       "(4801, 17)"
      ]
     },
     "execution_count": 6,
     "metadata": {},
     "output_type": "execute_result"
    }
   ],
   "source": [
    "df1.shape"
   ]
  },
  {
   "cell_type": "markdown",
   "metadata": {},
   "source": [
    "Drop the columns that are not going to be useful for the prediction and show how the resulting dataset looks like."
   ]
  },
  {
   "cell_type": "code",
   "execution_count": 8,
   "metadata": {},
   "outputs": [
    {
     "data": {
      "text/html": [
       "<div>\n",
       "<style scoped>\n",
       "    .dataframe tbody tr th:only-of-type {\n",
       "        vertical-align: middle;\n",
       "    }\n",
       "\n",
       "    .dataframe tbody tr th {\n",
       "        vertical-align: top;\n",
       "    }\n",
       "\n",
       "    .dataframe thead th {\n",
       "        text-align: right;\n",
       "    }\n",
       "</style>\n",
       "<table border=\"1\" class=\"dataframe\">\n",
       "  <thead>\n",
       "    <tr style=\"text-align: right;\">\n",
       "      <th></th>\n",
       "      <th>PRICE</th>\n",
       "      <th>BEDS</th>\n",
       "      <th>BATH</th>\n",
       "      <th>PROPERTYSQFT</th>\n",
       "      <th>SUBLOCALITY</th>\n",
       "      <th>STREET_NAME</th>\n",
       "      <th>LONG_NAME</th>\n",
       "      <th>LATITUDE</th>\n",
       "      <th>LONGITUDE</th>\n",
       "    </tr>\n",
       "  </thead>\n",
       "  <tbody>\n",
       "    <tr>\n",
       "      <th>0</th>\n",
       "      <td>315000</td>\n",
       "      <td>2</td>\n",
       "      <td>2.000000</td>\n",
       "      <td>1400.0</td>\n",
       "      <td>Manhattan</td>\n",
       "      <td>East 55th Street</td>\n",
       "      <td>Regis Residence</td>\n",
       "      <td>40.761255</td>\n",
       "      <td>-73.974483</td>\n",
       "    </tr>\n",
       "    <tr>\n",
       "      <th>1</th>\n",
       "      <td>195000000</td>\n",
       "      <td>7</td>\n",
       "      <td>10.000000</td>\n",
       "      <td>17545.0</td>\n",
       "      <td>New York County</td>\n",
       "      <td>New York</td>\n",
       "      <td>West 57th Street</td>\n",
       "      <td>40.766393</td>\n",
       "      <td>-73.980991</td>\n",
       "    </tr>\n",
       "    <tr>\n",
       "      <th>2</th>\n",
       "      <td>260000</td>\n",
       "      <td>4</td>\n",
       "      <td>2.000000</td>\n",
       "      <td>2015.0</td>\n",
       "      <td>Richmond County</td>\n",
       "      <td>Staten Island</td>\n",
       "      <td>Sinclair Avenue</td>\n",
       "      <td>40.541805</td>\n",
       "      <td>-74.196109</td>\n",
       "    </tr>\n",
       "    <tr>\n",
       "      <th>3</th>\n",
       "      <td>69000</td>\n",
       "      <td>3</td>\n",
       "      <td>1.000000</td>\n",
       "      <td>445.0</td>\n",
       "      <td>New York County</td>\n",
       "      <td>New York</td>\n",
       "      <td>East 55th Street</td>\n",
       "      <td>40.761398</td>\n",
       "      <td>-73.974613</td>\n",
       "    </tr>\n",
       "    <tr>\n",
       "      <th>4</th>\n",
       "      <td>55000000</td>\n",
       "      <td>7</td>\n",
       "      <td>2.373861</td>\n",
       "      <td>14175.0</td>\n",
       "      <td>New York County</td>\n",
       "      <td>New York</td>\n",
       "      <td>East 64th Street</td>\n",
       "      <td>40.767224</td>\n",
       "      <td>-73.969856</td>\n",
       "    </tr>\n",
       "  </tbody>\n",
       "</table>\n",
       "</div>"
      ],
      "text/plain": [
       "       PRICE  BEDS       BATH  PROPERTYSQFT      SUBLOCALITY  \\\n",
       "0     315000     2   2.000000        1400.0        Manhattan   \n",
       "1  195000000     7  10.000000       17545.0  New York County   \n",
       "2     260000     4   2.000000        2015.0  Richmond County   \n",
       "3      69000     3   1.000000         445.0  New York County   \n",
       "4   55000000     7   2.373861       14175.0  New York County   \n",
       "\n",
       "        STREET_NAME         LONG_NAME   LATITUDE  LONGITUDE  \n",
       "0  East 55th Street   Regis Residence  40.761255 -73.974483  \n",
       "1          New York  West 57th Street  40.766393 -73.980991  \n",
       "2     Staten Island   Sinclair Avenue  40.541805 -74.196109  \n",
       "3          New York  East 55th Street  40.761398 -73.974613  \n",
       "4          New York  East 64th Street  40.767224 -73.969856  "
      ]
     },
     "execution_count": 8,
     "metadata": {},
     "output_type": "execute_result"
    }
   ],
   "source": [
    "df2 = df1.drop(['BROKERTITLE', 'TYPE', 'ADDRESS', 'STATE', 'MAIN_ADDRESS', 'ADMINISTRATIVE_AREA_LEVEL_2', 'LOCALITY', 'FORMATTED_ADDRESS'], axis='columns')\n",
    "df2.head()"
   ]
  },
  {
   "cell_type": "markdown",
   "metadata": {},
   "source": [
    "Check if there are rows with missing values, if they exist, drop them."
   ]
  },
  {
   "cell_type": "code",
   "execution_count": 9,
   "metadata": {},
   "outputs": [
    {
     "data": {
      "text/plain": [
       "PRICE           0\n",
       "BEDS            0\n",
       "BATH            0\n",
       "PROPERTYSQFT    0\n",
       "SUBLOCALITY     0\n",
       "STREET_NAME     0\n",
       "LONG_NAME       0\n",
       "LATITUDE        0\n",
       "LONGITUDE       0\n",
       "dtype: int64"
      ]
     },
     "execution_count": 9,
     "metadata": {},
     "output_type": "execute_result"
    }
   ],
   "source": [
    "df2.isnull().sum()"
   ]
  },
  {
   "cell_type": "markdown",
   "metadata": {},
   "source": [
    "Since they are not NaN values of any columns, we're not going to fill with any medium value. After dropping the rows if needed, display the types of the columns and the shape of the dataset."
   ]
  },
  {
   "cell_type": "code",
   "execution_count": 15,
   "metadata": {},
   "outputs": [
    {
     "data": {
      "text/plain": [
       "PRICE             int64\n",
       "BEDS              int64\n",
       "BATH            float64\n",
       "PROPERTYSQFT    float64\n",
       "SUBLOCALITY      object\n",
       "STREET_NAME      object\n",
       "LONG_NAME        object\n",
       "LATITUDE        float64\n",
       "LONGITUDE       float64\n",
       "dtype: object"
      ]
     },
     "execution_count": 15,
     "metadata": {},
     "output_type": "execute_result"
    }
   ],
   "source": [
    "df2.dtypes\n",
    "df2.shape"
   ]
  },
  {
   "cell_type": "markdown",
   "metadata": {},
   "source": [
    "Take a look of how the dataset is looking up to this point after dropping some columns and rows."
   ]
  },
  {
   "cell_type": "code",
   "execution_count": 16,
   "metadata": {},
   "outputs": [
    {
     "data": {
      "text/html": [
       "<div>\n",
       "<style scoped>\n",
       "    .dataframe tbody tr th:only-of-type {\n",
       "        vertical-align: middle;\n",
       "    }\n",
       "\n",
       "    .dataframe tbody tr th {\n",
       "        vertical-align: top;\n",
       "    }\n",
       "\n",
       "    .dataframe thead th {\n",
       "        text-align: right;\n",
       "    }\n",
       "</style>\n",
       "<table border=\"1\" class=\"dataframe\">\n",
       "  <thead>\n",
       "    <tr style=\"text-align: right;\">\n",
       "      <th></th>\n",
       "      <th>PRICE</th>\n",
       "      <th>BEDS</th>\n",
       "      <th>BATH</th>\n",
       "      <th>PROPERTYSQFT</th>\n",
       "      <th>SUBLOCALITY</th>\n",
       "      <th>STREET_NAME</th>\n",
       "      <th>LONG_NAME</th>\n",
       "      <th>LATITUDE</th>\n",
       "      <th>LONGITUDE</th>\n",
       "    </tr>\n",
       "  </thead>\n",
       "  <tbody>\n",
       "    <tr>\n",
       "      <th>0</th>\n",
       "      <td>315000</td>\n",
       "      <td>2</td>\n",
       "      <td>2.000000</td>\n",
       "      <td>1400.0</td>\n",
       "      <td>Manhattan</td>\n",
       "      <td>East 55th Street</td>\n",
       "      <td>Regis Residence</td>\n",
       "      <td>40.761255</td>\n",
       "      <td>-73.974483</td>\n",
       "    </tr>\n",
       "    <tr>\n",
       "      <th>1</th>\n",
       "      <td>195000000</td>\n",
       "      <td>7</td>\n",
       "      <td>10.000000</td>\n",
       "      <td>17545.0</td>\n",
       "      <td>New York County</td>\n",
       "      <td>New York</td>\n",
       "      <td>West 57th Street</td>\n",
       "      <td>40.766393</td>\n",
       "      <td>-73.980991</td>\n",
       "    </tr>\n",
       "    <tr>\n",
       "      <th>2</th>\n",
       "      <td>260000</td>\n",
       "      <td>4</td>\n",
       "      <td>2.000000</td>\n",
       "      <td>2015.0</td>\n",
       "      <td>Richmond County</td>\n",
       "      <td>Staten Island</td>\n",
       "      <td>Sinclair Avenue</td>\n",
       "      <td>40.541805</td>\n",
       "      <td>-74.196109</td>\n",
       "    </tr>\n",
       "    <tr>\n",
       "      <th>3</th>\n",
       "      <td>69000</td>\n",
       "      <td>3</td>\n",
       "      <td>1.000000</td>\n",
       "      <td>445.0</td>\n",
       "      <td>New York County</td>\n",
       "      <td>New York</td>\n",
       "      <td>East 55th Street</td>\n",
       "      <td>40.761398</td>\n",
       "      <td>-73.974613</td>\n",
       "    </tr>\n",
       "    <tr>\n",
       "      <th>4</th>\n",
       "      <td>55000000</td>\n",
       "      <td>7</td>\n",
       "      <td>2.373861</td>\n",
       "      <td>14175.0</td>\n",
       "      <td>New York County</td>\n",
       "      <td>New York</td>\n",
       "      <td>East 64th Street</td>\n",
       "      <td>40.767224</td>\n",
       "      <td>-73.969856</td>\n",
       "    </tr>\n",
       "  </tbody>\n",
       "</table>\n",
       "</div>"
      ],
      "text/plain": [
       "       PRICE  BEDS       BATH  PROPERTYSQFT      SUBLOCALITY  \\\n",
       "0     315000     2   2.000000        1400.0        Manhattan   \n",
       "1  195000000     7  10.000000       17545.0  New York County   \n",
       "2     260000     4   2.000000        2015.0  Richmond County   \n",
       "3      69000     3   1.000000         445.0  New York County   \n",
       "4   55000000     7   2.373861       14175.0  New York County   \n",
       "\n",
       "        STREET_NAME         LONG_NAME   LATITUDE  LONGITUDE  \n",
       "0  East 55th Street   Regis Residence  40.761255 -73.974483  \n",
       "1          New York  West 57th Street  40.766393 -73.980991  \n",
       "2     Staten Island   Sinclair Avenue  40.541805 -74.196109  \n",
       "3          New York  East 55th Street  40.761398 -73.974613  \n",
       "4          New York  East 64th Street  40.767224 -73.969856  "
      ]
     },
     "execution_count": 16,
     "metadata": {},
     "output_type": "execute_result"
    }
   ],
   "source": [
    "df2.head()"
   ]
  },
  {
   "cell_type": "markdown",
   "metadata": {},
   "source": [
    "We can see that the column 'BATH' is a float type, but it should be an integer. We're going to convert it to integer. But first let's understand where this float values are coming from."
   ]
  },
  {
   "cell_type": "code",
   "execution_count": 17,
   "metadata": {},
   "outputs": [
    {
     "data": {
      "text/plain": [
       "array([ 2.        , 10.        ,  1.        ,  2.37386086, 16.        ,\n",
       "        3.        ,  4.        ,  6.        ,  8.        ,  5.        ,\n",
       "        9.        ,  7.        , 32.        , 13.        , 50.        ,\n",
       "       20.        , 11.        , 12.        , 24.        , 43.        ,\n",
       "        0.        , 17.        ])"
      ]
     },
     "execution_count": 17,
     "metadata": {},
     "output_type": "execute_result"
    }
   ],
   "source": [
    "df2['BATH'].unique()"
   ]
  },
  {
   "cell_type": "markdown",
   "metadata": {},
   "source": [
    "There's only one row with a float value in the 'BATH' column. That's '2.3738...', this should only be '2'. We're going to convert this value to '2' converting the column to integer type."
   ]
  },
  {
   "cell_type": "code",
   "execution_count": 21,
   "metadata": {},
   "outputs": [
    {
     "data": {
      "text/plain": [
       "array([ 2, 10,  1, 16,  3,  4,  6,  8,  5,  9,  7, 32, 13, 50, 20, 11, 12,\n",
       "       24, 43,  0, 17])"
      ]
     },
     "execution_count": 21,
     "metadata": {},
     "output_type": "execute_result"
    }
   ],
   "source": [
    "#Convert the BATH column to int64\n",
    "df2.BATH = df2.BATH.astype('int64')\n",
    "df2.BATH.unique()"
   ]
  },
  {
   "cell_type": "markdown",
   "metadata": {},
   "source": [
    "We're going to create the column of 'PRICE_PER_SQFT', because in real state markets, the price of each square feet is very important, and that should be included in our dataframe."
   ]
  },
  {
   "cell_type": "code",
   "execution_count": 23,
   "metadata": {},
   "outputs": [
    {
     "data": {
      "text/html": [
       "<div>\n",
       "<style scoped>\n",
       "    .dataframe tbody tr th:only-of-type {\n",
       "        vertical-align: middle;\n",
       "    }\n",
       "\n",
       "    .dataframe tbody tr th {\n",
       "        vertical-align: top;\n",
       "    }\n",
       "\n",
       "    .dataframe thead th {\n",
       "        text-align: right;\n",
       "    }\n",
       "</style>\n",
       "<table border=\"1\" class=\"dataframe\">\n",
       "  <thead>\n",
       "    <tr style=\"text-align: right;\">\n",
       "      <th></th>\n",
       "      <th>PRICE</th>\n",
       "      <th>BEDS</th>\n",
       "      <th>BATH</th>\n",
       "      <th>PROPERTYSQFT</th>\n",
       "      <th>SUBLOCALITY</th>\n",
       "      <th>STREET_NAME</th>\n",
       "      <th>LONG_NAME</th>\n",
       "      <th>LATITUDE</th>\n",
       "      <th>LONGITUDE</th>\n",
       "      <th>PRICE_PER_SQFT</th>\n",
       "    </tr>\n",
       "  </thead>\n",
       "  <tbody>\n",
       "    <tr>\n",
       "      <th>0</th>\n",
       "      <td>315000</td>\n",
       "      <td>2</td>\n",
       "      <td>2</td>\n",
       "      <td>1400.0</td>\n",
       "      <td>Manhattan</td>\n",
       "      <td>East 55th Street</td>\n",
       "      <td>Regis Residence</td>\n",
       "      <td>40.761255</td>\n",
       "      <td>-73.974483</td>\n",
       "      <td>225.000000</td>\n",
       "    </tr>\n",
       "    <tr>\n",
       "      <th>1</th>\n",
       "      <td>195000000</td>\n",
       "      <td>7</td>\n",
       "      <td>10</td>\n",
       "      <td>17545.0</td>\n",
       "      <td>New York County</td>\n",
       "      <td>New York</td>\n",
       "      <td>West 57th Street</td>\n",
       "      <td>40.766393</td>\n",
       "      <td>-73.980991</td>\n",
       "      <td>11114.277572</td>\n",
       "    </tr>\n",
       "    <tr>\n",
       "      <th>2</th>\n",
       "      <td>260000</td>\n",
       "      <td>4</td>\n",
       "      <td>2</td>\n",
       "      <td>2015.0</td>\n",
       "      <td>Richmond County</td>\n",
       "      <td>Staten Island</td>\n",
       "      <td>Sinclair Avenue</td>\n",
       "      <td>40.541805</td>\n",
       "      <td>-74.196109</td>\n",
       "      <td>129.032258</td>\n",
       "    </tr>\n",
       "    <tr>\n",
       "      <th>3</th>\n",
       "      <td>69000</td>\n",
       "      <td>3</td>\n",
       "      <td>1</td>\n",
       "      <td>445.0</td>\n",
       "      <td>New York County</td>\n",
       "      <td>New York</td>\n",
       "      <td>East 55th Street</td>\n",
       "      <td>40.761398</td>\n",
       "      <td>-73.974613</td>\n",
       "      <td>155.056180</td>\n",
       "    </tr>\n",
       "    <tr>\n",
       "      <th>4</th>\n",
       "      <td>55000000</td>\n",
       "      <td>7</td>\n",
       "      <td>2</td>\n",
       "      <td>14175.0</td>\n",
       "      <td>New York County</td>\n",
       "      <td>New York</td>\n",
       "      <td>East 64th Street</td>\n",
       "      <td>40.767224</td>\n",
       "      <td>-73.969856</td>\n",
       "      <td>3880.070547</td>\n",
       "    </tr>\n",
       "  </tbody>\n",
       "</table>\n",
       "</div>"
      ],
      "text/plain": [
       "       PRICE  BEDS  BATH  PROPERTYSQFT      SUBLOCALITY       STREET_NAME  \\\n",
       "0     315000     2     2        1400.0        Manhattan  East 55th Street   \n",
       "1  195000000     7    10       17545.0  New York County          New York   \n",
       "2     260000     4     2        2015.0  Richmond County     Staten Island   \n",
       "3      69000     3     1         445.0  New York County          New York   \n",
       "4   55000000     7     2       14175.0  New York County          New York   \n",
       "\n",
       "          LONG_NAME   LATITUDE  LONGITUDE  PRICE_PER_SQFT  \n",
       "0   Regis Residence  40.761255 -73.974483      225.000000  \n",
       "1  West 57th Street  40.766393 -73.980991    11114.277572  \n",
       "2   Sinclair Avenue  40.541805 -74.196109      129.032258  \n",
       "3  East 55th Street  40.761398 -73.974613      155.056180  \n",
       "4  East 64th Street  40.767224 -73.969856     3880.070547  "
      ]
     },
     "execution_count": 23,
     "metadata": {},
     "output_type": "execute_result"
    }
   ],
   "source": [
    "df3 = df2.copy()\n",
    "df3['PRICE_PER_SQFT'] = df3['PRICE']/df3['PROPERTYSQFT']\n",
    "df3.head()"
   ]
  },
  {
   "cell_type": "markdown",
   "metadata": {},
   "source": [
    "We can notice that the latitude and longitude are not exactly significant for the prediction, because this is included in the 'SUBLOCALITY'. But for technical reasons, let's check if there's a significant variation in the latitude and longitude values. If there's not, we're going to drop these columns."
   ]
  },
  {
   "cell_type": "code",
   "execution_count": 30,
   "metadata": {},
   "outputs": [
    {
     "data": {
      "text/plain": [
       "0.010217668066549411"
      ]
     },
     "execution_count": 30,
     "metadata": {},
     "output_type": "execute_result"
    }
   ],
   "source": [
    "df3['LATITUDE'].var()\n",
    "df3['LONGITUDE'].var()"
   ]
  },
  {
   "cell_type": "markdown",
   "metadata": {},
   "source": [
    "We can see that the variance of both columns is significantly low, in the case that this values were important, we would have to normalize them. But since they are not, we're going to drop them."
   ]
  },
  {
   "cell_type": "code",
   "execution_count": 34,
   "metadata": {},
   "outputs": [
    {
     "data": {
      "text/html": [
       "<div>\n",
       "<style scoped>\n",
       "    .dataframe tbody tr th:only-of-type {\n",
       "        vertical-align: middle;\n",
       "    }\n",
       "\n",
       "    .dataframe tbody tr th {\n",
       "        vertical-align: top;\n",
       "    }\n",
       "\n",
       "    .dataframe thead th {\n",
       "        text-align: right;\n",
       "    }\n",
       "</style>\n",
       "<table border=\"1\" class=\"dataframe\">\n",
       "  <thead>\n",
       "    <tr style=\"text-align: right;\">\n",
       "      <th></th>\n",
       "      <th>PRICE</th>\n",
       "      <th>BEDS</th>\n",
       "      <th>BATH</th>\n",
       "      <th>PROPERTYSQFT</th>\n",
       "      <th>SUBLOCALITY</th>\n",
       "      <th>STREET_NAME</th>\n",
       "      <th>LONG_NAME</th>\n",
       "      <th>PRICE_PER_SQFT</th>\n",
       "    </tr>\n",
       "  </thead>\n",
       "  <tbody>\n",
       "    <tr>\n",
       "      <th>0</th>\n",
       "      <td>315000</td>\n",
       "      <td>2</td>\n",
       "      <td>2</td>\n",
       "      <td>1400.0</td>\n",
       "      <td>Manhattan</td>\n",
       "      <td>East 55th Street</td>\n",
       "      <td>Regis Residence</td>\n",
       "      <td>225.000000</td>\n",
       "    </tr>\n",
       "    <tr>\n",
       "      <th>1</th>\n",
       "      <td>195000000</td>\n",
       "      <td>7</td>\n",
       "      <td>10</td>\n",
       "      <td>17545.0</td>\n",
       "      <td>New York County</td>\n",
       "      <td>New York</td>\n",
       "      <td>West 57th Street</td>\n",
       "      <td>11114.277572</td>\n",
       "    </tr>\n",
       "    <tr>\n",
       "      <th>2</th>\n",
       "      <td>260000</td>\n",
       "      <td>4</td>\n",
       "      <td>2</td>\n",
       "      <td>2015.0</td>\n",
       "      <td>Richmond County</td>\n",
       "      <td>Staten Island</td>\n",
       "      <td>Sinclair Avenue</td>\n",
       "      <td>129.032258</td>\n",
       "    </tr>\n",
       "    <tr>\n",
       "      <th>3</th>\n",
       "      <td>69000</td>\n",
       "      <td>3</td>\n",
       "      <td>1</td>\n",
       "      <td>445.0</td>\n",
       "      <td>New York County</td>\n",
       "      <td>New York</td>\n",
       "      <td>East 55th Street</td>\n",
       "      <td>155.056180</td>\n",
       "    </tr>\n",
       "    <tr>\n",
       "      <th>4</th>\n",
       "      <td>55000000</td>\n",
       "      <td>7</td>\n",
       "      <td>2</td>\n",
       "      <td>14175.0</td>\n",
       "      <td>New York County</td>\n",
       "      <td>New York</td>\n",
       "      <td>East 64th Street</td>\n",
       "      <td>3880.070547</td>\n",
       "    </tr>\n",
       "  </tbody>\n",
       "</table>\n",
       "</div>"
      ],
      "text/plain": [
       "       PRICE  BEDS  BATH  PROPERTYSQFT      SUBLOCALITY       STREET_NAME  \\\n",
       "0     315000     2     2        1400.0        Manhattan  East 55th Street   \n",
       "1  195000000     7    10       17545.0  New York County          New York   \n",
       "2     260000     4     2        2015.0  Richmond County     Staten Island   \n",
       "3      69000     3     1         445.0  New York County          New York   \n",
       "4   55000000     7     2       14175.0  New York County          New York   \n",
       "\n",
       "          LONG_NAME  PRICE_PER_SQFT  \n",
       "0   Regis Residence      225.000000  \n",
       "1  West 57th Street    11114.277572  \n",
       "2   Sinclair Avenue      129.032258  \n",
       "3  East 55th Street      155.056180  \n",
       "4  East 64th Street     3880.070547  "
      ]
     },
     "execution_count": 34,
     "metadata": {},
     "output_type": "execute_result"
    }
   ],
   "source": [
    "df3 = df3.drop(['LATITUDE', 'LONGITUDE'], axis='columns')\n",
    "df3.head()"
   ]
  },
  {
   "cell_type": "markdown",
   "metadata": {},
   "source": [
    "Now, for the 'SUBLOCALITY' column, we're going to check the unique values and the number of unique values. This is because we're going to use one hot encoding to convert this column to numerical values."
   ]
  },
  {
   "cell_type": "code",
   "execution_count": 68,
   "metadata": {},
   "outputs": [
    {
     "data": {
      "text/plain": [
       "SUBLOCALITY\n",
       "Manhattan        1323\n",
       "Queens           1245\n",
       "Brooklyn         1198\n",
       "Staten Island     539\n",
       "Bronx             496\n",
       "Name: SUBLOCALITY, dtype: int64"
      ]
     },
     "execution_count": 68,
     "metadata": {},
     "output_type": "execute_result"
    }
   ],
   "source": [
    "len(df3.SUBLOCALITY.unique())\n",
    "sublocality_stats = df3.groupby('SUBLOCALITY')['SUBLOCALITY'].agg('count').sort_values(ascending=False)\n",
    "sublocality_stats"
   ]
  },
  {
   "cell_type": "markdown",
   "metadata": {},
   "source": [
    "So, we can notice that the same location has been written ways. We need to make some changes to this column to make it more consistent. Especially because we know that they're only 5 which are:\n",
    "- 'BRONX'\n",
    "- 'BROOKLYN'\n",
    "- 'MANHATTAN'\n",
    "- 'QUEENS'\n",
    "- 'STATEN ISLAND'"
   ]
  },
  {
   "cell_type": "code",
   "execution_count": 67,
   "metadata": {},
   "outputs": [],
   "source": [
    "#The rows with the name of sublocality as \"East Bronx\" or \"Bronx County\" should only be \"Bronx\"\n",
    "df3.SUBLOCALITY = df3.SUBLOCALITY.apply(lambda x: 'Bronx' if x=='East Bronx' or x=='Bronx County' or x==\"The Bronx\" else x)\n",
    "\n",
    "#\"Queens County\" should only be \"Queens\"\n",
    "df3.SUBLOCALITY = df3.SUBLOCALITY.apply(lambda x: 'Queens' if x=='Queens County' else x)\n",
    "\n",
    "#\"Kings County\" should only be \"Brooklyn\"\n",
    "df3.SUBLOCALITY = df3.SUBLOCALITY.apply(lambda x: 'Brooklyn' if x=='Kings County' else x)\n",
    "\n",
    "#\"New York County\" should only be \"Manhattan\"\n",
    "df3.SUBLOCALITY = df3.SUBLOCALITY.apply(lambda x: 'Manhattan' if x=='New York County' else x)\n",
    "\n",
    "#\"New York\" should only be \"Manhattan\n",
    "df3.SUBLOCALITY = df3.SUBLOCALITY.apply(lambda x: 'Manhattan' if x=='New York' else x)\n",
    "\n",
    "#\"Richmond County\" should only be \"Staten Island\"\n",
    "df3.SUBLOCALITY = df3.SUBLOCALITY.apply(lambda x: 'Staten Island' if x=='Richmond County' else x)\n",
    "\n",
    "#\"Brooklyn Heights\" should only be \"Brooklyn\"\n",
    "df3.SUBLOCALITY = df3.SUBLOCALITY.apply(lambda x: 'Brooklyn' if x=='Brooklyn Heights' else x)\n",
    "\n",
    "#\"Flushing\" should only be \"Queens\"\n",
    "df3.SUBLOCALITY = df3.SUBLOCALITY.apply(lambda x: 'Queens' if x=='Flushing' else x)\n",
    "\n",
    "#\"Riverdale\" should only be \"Bronx\"\n",
    "df3.SUBLOCALITY = df3.SUBLOCALITY.apply(lambda x: 'Bronx' if x=='Riverdale' else x)\n",
    "\n",
    "#\"Coney Island\" should only be \"Brooklyn\"\n",
    "df3.SUBLOCALITY = df3.SUBLOCALITY.apply(lambda x: 'Brooklyn' if x=='Coney Island' else x)\n",
    "\n",
    "#\"Dumbo\" should only be \"Brooklyn\"\n",
    "df3.SUBLOCALITY = df3.SUBLOCALITY.apply(lambda x: 'Brooklyn' if x=='Dumbo' else x)\n",
    "\n",
    "#Fort Hamilton\" should only be \"Brooklyn\"\n",
    "df3.SUBLOCALITY = df3.SUBLOCALITY.apply(lambda x: 'Brooklyn' if x=='Fort Hamilton' else x)\n",
    "\n",
    "#\"Jackson Heights\" should only be \"Queens\"\n",
    "df3.SUBLOCALITY = df3.SUBLOCALITY.apply(lambda x: 'Queens' if x=='Jackson Heights' else x)\n",
    "\n",
    "#\"Rego Park\" should only be \"Queens\"\n",
    "df3.SUBLOCALITY = df3.SUBLOCALITY.apply(lambda x: 'Queens' if x=='Rego Park' else x)\n",
    "\n",
    "#\"Synder Avenue\" should only be \"Brooklyn\"\n",
    "df3.SUBLOCALITY = df3.SUBLOCALITY.apply(lambda x: 'Brooklyn' if x=='Snyder Avenue' else x)"
   ]
  },
  {
   "cell_type": "markdown",
   "metadata": {},
   "source": [
    "After correcting every SUBLOCALITY, let's see how it looks now."
   ]
  },
  {
   "cell_type": "code",
   "execution_count": 69,
   "metadata": {},
   "outputs": [
    {
     "data": {
      "text/plain": [
       "SUBLOCALITY\n",
       "Manhattan        1323\n",
       "Queens           1245\n",
       "Brooklyn         1198\n",
       "Staten Island     539\n",
       "Bronx             496\n",
       "Name: SUBLOCALITY, dtype: int64"
      ]
     },
     "execution_count": 69,
     "metadata": {},
     "output_type": "execute_result"
    }
   ],
   "source": [
    "len(df3.SUBLOCALITY.unique())\n",
    "sublocality_stats = df3.groupby('SUBLOCALITY')['SUBLOCALITY'].agg('count').sort_values(ascending=False)\n",
    "sublocality_stats"
   ]
  },
  {
   "cell_type": "code",
   "execution_count": 70,
   "metadata": {},
   "outputs": [
    {
     "data": {
      "text/html": [
       "<div>\n",
       "<style scoped>\n",
       "    .dataframe tbody tr th:only-of-type {\n",
       "        vertical-align: middle;\n",
       "    }\n",
       "\n",
       "    .dataframe tbody tr th {\n",
       "        vertical-align: top;\n",
       "    }\n",
       "\n",
       "    .dataframe thead th {\n",
       "        text-align: right;\n",
       "    }\n",
       "</style>\n",
       "<table border=\"1\" class=\"dataframe\">\n",
       "  <thead>\n",
       "    <tr style=\"text-align: right;\">\n",
       "      <th></th>\n",
       "      <th>PRICE</th>\n",
       "      <th>BEDS</th>\n",
       "      <th>BATH</th>\n",
       "      <th>PROPERTYSQFT</th>\n",
       "      <th>SUBLOCALITY</th>\n",
       "      <th>STREET_NAME</th>\n",
       "      <th>LONG_NAME</th>\n",
       "      <th>PRICE_PER_SQFT</th>\n",
       "    </tr>\n",
       "  </thead>\n",
       "  <tbody>\n",
       "    <tr>\n",
       "      <th>0</th>\n",
       "      <td>315000</td>\n",
       "      <td>2</td>\n",
       "      <td>2</td>\n",
       "      <td>1400.0</td>\n",
       "      <td>Manhattan</td>\n",
       "      <td>East 55th Street</td>\n",
       "      <td>Regis Residence</td>\n",
       "      <td>225.000000</td>\n",
       "    </tr>\n",
       "    <tr>\n",
       "      <th>1</th>\n",
       "      <td>195000000</td>\n",
       "      <td>7</td>\n",
       "      <td>10</td>\n",
       "      <td>17545.0</td>\n",
       "      <td>Manhattan</td>\n",
       "      <td>New York</td>\n",
       "      <td>West 57th Street</td>\n",
       "      <td>11114.277572</td>\n",
       "    </tr>\n",
       "    <tr>\n",
       "      <th>2</th>\n",
       "      <td>260000</td>\n",
       "      <td>4</td>\n",
       "      <td>2</td>\n",
       "      <td>2015.0</td>\n",
       "      <td>Staten Island</td>\n",
       "      <td>Staten Island</td>\n",
       "      <td>Sinclair Avenue</td>\n",
       "      <td>129.032258</td>\n",
       "    </tr>\n",
       "    <tr>\n",
       "      <th>3</th>\n",
       "      <td>69000</td>\n",
       "      <td>3</td>\n",
       "      <td>1</td>\n",
       "      <td>445.0</td>\n",
       "      <td>Manhattan</td>\n",
       "      <td>New York</td>\n",
       "      <td>East 55th Street</td>\n",
       "      <td>155.056180</td>\n",
       "    </tr>\n",
       "    <tr>\n",
       "      <th>4</th>\n",
       "      <td>55000000</td>\n",
       "      <td>7</td>\n",
       "      <td>2</td>\n",
       "      <td>14175.0</td>\n",
       "      <td>Manhattan</td>\n",
       "      <td>New York</td>\n",
       "      <td>East 64th Street</td>\n",
       "      <td>3880.070547</td>\n",
       "    </tr>\n",
       "  </tbody>\n",
       "</table>\n",
       "</div>"
      ],
      "text/plain": [
       "       PRICE  BEDS  BATH  PROPERTYSQFT    SUBLOCALITY       STREET_NAME  \\\n",
       "0     315000     2     2        1400.0      Manhattan  East 55th Street   \n",
       "1  195000000     7    10       17545.0      Manhattan          New York   \n",
       "2     260000     4     2        2015.0  Staten Island     Staten Island   \n",
       "3      69000     3     1         445.0      Manhattan          New York   \n",
       "4   55000000     7     2       14175.0      Manhattan          New York   \n",
       "\n",
       "          LONG_NAME  PRICE_PER_SQFT  \n",
       "0   Regis Residence      225.000000  \n",
       "1  West 57th Street    11114.277572  \n",
       "2   Sinclair Avenue      129.032258  \n",
       "3  East 55th Street      155.056180  \n",
       "4  East 64th Street     3880.070547  "
      ]
     },
     "execution_count": 70,
     "metadata": {},
     "output_type": "execute_result"
    }
   ],
   "source": [
    "df3.head()"
   ]
  },
  {
   "cell_type": "markdown",
   "metadata": {},
   "source": [
    "Since we have a lot of street name and long names, we're going to use for the locality feature only the first word of the SUBLOCALITY. This is because we know that the first word is the most important one in the address."
   ]
  },
  {
   "cell_type": "code",
   "execution_count": 75,
   "metadata": {},
   "outputs": [
    {
     "data": {
      "text/html": [
       "<div>\n",
       "<style scoped>\n",
       "    .dataframe tbody tr th:only-of-type {\n",
       "        vertical-align: middle;\n",
       "    }\n",
       "\n",
       "    .dataframe tbody tr th {\n",
       "        vertical-align: top;\n",
       "    }\n",
       "\n",
       "    .dataframe thead th {\n",
       "        text-align: right;\n",
       "    }\n",
       "</style>\n",
       "<table border=\"1\" class=\"dataframe\">\n",
       "  <thead>\n",
       "    <tr style=\"text-align: right;\">\n",
       "      <th></th>\n",
       "      <th>PRICE</th>\n",
       "      <th>BEDS</th>\n",
       "      <th>BATH</th>\n",
       "      <th>PROPERTYSQFT</th>\n",
       "      <th>SUBLOCALITY</th>\n",
       "      <th>PRICE_PER_SQFT</th>\n",
       "    </tr>\n",
       "  </thead>\n",
       "  <tbody>\n",
       "    <tr>\n",
       "      <th>0</th>\n",
       "      <td>315000</td>\n",
       "      <td>2</td>\n",
       "      <td>2</td>\n",
       "      <td>1400.0</td>\n",
       "      <td>Manhattan</td>\n",
       "      <td>225.000000</td>\n",
       "    </tr>\n",
       "    <tr>\n",
       "      <th>1</th>\n",
       "      <td>195000000</td>\n",
       "      <td>7</td>\n",
       "      <td>10</td>\n",
       "      <td>17545.0</td>\n",
       "      <td>Manhattan</td>\n",
       "      <td>11114.277572</td>\n",
       "    </tr>\n",
       "    <tr>\n",
       "      <th>2</th>\n",
       "      <td>260000</td>\n",
       "      <td>4</td>\n",
       "      <td>2</td>\n",
       "      <td>2015.0</td>\n",
       "      <td>Staten Island</td>\n",
       "      <td>129.032258</td>\n",
       "    </tr>\n",
       "    <tr>\n",
       "      <th>3</th>\n",
       "      <td>69000</td>\n",
       "      <td>3</td>\n",
       "      <td>1</td>\n",
       "      <td>445.0</td>\n",
       "      <td>Manhattan</td>\n",
       "      <td>155.056180</td>\n",
       "    </tr>\n",
       "    <tr>\n",
       "      <th>4</th>\n",
       "      <td>55000000</td>\n",
       "      <td>7</td>\n",
       "      <td>2</td>\n",
       "      <td>14175.0</td>\n",
       "      <td>Manhattan</td>\n",
       "      <td>3880.070547</td>\n",
       "    </tr>\n",
       "  </tbody>\n",
       "</table>\n",
       "</div>"
      ],
      "text/plain": [
       "       PRICE  BEDS  BATH  PROPERTYSQFT    SUBLOCALITY  PRICE_PER_SQFT\n",
       "0     315000     2     2        1400.0      Manhattan      225.000000\n",
       "1  195000000     7    10       17545.0      Manhattan    11114.277572\n",
       "2     260000     4     2        2015.0  Staten Island      129.032258\n",
       "3      69000     3     1         445.0      Manhattan      155.056180\n",
       "4   55000000     7     2       14175.0      Manhattan     3880.070547"
      ]
     },
     "execution_count": 75,
     "metadata": {},
     "output_type": "execute_result"
    }
   ],
   "source": [
    "df3 = df3.drop(columns=['STREET_NAME', 'LONG_NAME'])\n",
    "df3.head()"
   ]
  },
  {
   "cell_type": "markdown",
   "metadata": {},
   "source": [
    "Now the dataframe is all clean, we need to search for outliers. We're going to use the z-score to find the outliers. But first, let's check the distribution of the 'PROPERTYSQFT' column."
   ]
  },
  {
   "cell_type": "code",
   "execution_count": 77,
   "metadata": {},
   "outputs": [
    {
     "data": {
      "text/plain": [
       "count     4801.000000\n",
       "mean      2184.207862\n",
       "std       2377.140894\n",
       "min        230.000000\n",
       "25%       1200.000000\n",
       "50%       2184.207862\n",
       "75%       2184.207862\n",
       "max      65535.000000\n",
       "Name: PROPERTYSQFT, dtype: float64"
      ]
     },
     "execution_count": 77,
     "metadata": {},
     "output_type": "execute_result"
    }
   ],
   "source": [
    "df3.PROPERTYSQFT.describe()"
   ]
  },
  {
   "cell_type": "markdown",
   "metadata": {},
   "source": [
    "Let's define our remove outliers that will check for each sublocality if there are outliers and remove them."
   ]
  },
  {
   "cell_type": "code",
   "execution_count": 82,
   "metadata": {},
   "outputs": [
    {
     "data": {
      "text/plain": [
       "(4553, 6)"
      ]
     },
     "execution_count": 82,
     "metadata": {},
     "output_type": "execute_result"
    }
   ],
   "source": [
    "def remove_pps_outliers(df):\n",
    "    df_out = pd.DataFrame()\n",
    "    for key, subdf in df.groupby('SUBLOCALITY'):\n",
    "        m = np.mean(subdf.PROPERTYSQFT)\n",
    "        st = np.std(subdf.PROPERTYSQFT)\n",
    "        reduced_df = subdf[(subdf.PROPERTYSQFT>(m-st)) & (subdf.PROPERTYSQFT<=(m+st))]\n",
    "        df_out = pd.concat([df_out, reduced_df], ignore_index=True)\n",
    "    return df_out\n",
    "\n",
    "df4 = remove_pps_outliers(df3)\n",
    "df4.shape\n"
   ]
  },
  {
   "cell_type": "markdown",
   "metadata": {},
   "source": [
    "Now that the outliers are removed, let's plot the scatter plot for the 'BEDS' and 'PROPERTYSQFT' columns."
   ]
  },
  {
   "cell_type": "code",
   "execution_count": 87,
   "metadata": {},
   "outputs": [
    {
     "data": {
      "image/png": "[encoded data removed]",
      "text/plain": [
       "<Figure size 1500x1000 with 1 Axes>"
      ]
     },
     "metadata": {},
     "output_type": "display_data"
    }
   ],
   "source": [
    "def plot_scatter_chart(df, sublocality):\n",
    "    bedrooms2 = df[(df.SUBLOCALITY==sublocality) & (df.BEDS==2)]\n",
    "    bedrooms3 = df[(df.SUBLOCALITY==sublocality) & (df.BEDS==3)]\n",
    "    matplotlib.rcParams['figure.figsize'] = (15,10)\n",
    "    plt.scatter(\n",
    "        bedrooms2.PROPERTYSQFT,\n",
    "        bedrooms2.PRICE,\n",
    "        color='blue',\n",
    "        label='2 bedrooms',\n",
    "        s=50\n",
    "    )\n",
    "    plt.scatter(\n",
    "        bedrooms3.PROPERTYSQFT,\n",
    "        bedrooms3.PRICE,\n",
    "        marker='+',\n",
    "        color='green',\n",
    "        label='3 bedrooms',\n",
    "        s=50\n",
    "    )\n",
    "    plt.xlabel(\"Total Square Feet Area\")\n",
    "    plt.ylabel(\"Price Per Square Feet\")\n",
    "    plt.title(sublocality)\n",
    "    plt.legend()\n",
    "\n",
    "plot_scatter_chart(df4, \"Manhattan\")"
   ]
  },
  {
   "cell_type": "markdown",
   "metadata": {},
   "source": [
    "Now we can see that the're are some outliers in the 'BEDS' column. We're going to remove them.\n",
    "Remove the houses of 2 bedrooms whose 'PRICE_PER_SQFT' is less than the mean 'PRICE_PER_SQFT' of 1 bedroom houses."
   ]
  },
  {
   "cell_type": "code",
   "execution_count": 88,
   "metadata": {},
   "outputs": [
    {
     "data": {
      "text/plain": [
       "(2649, 6)"
      ]
     },
     "execution_count": 88,
     "metadata": {},
     "output_type": "execute_result"
    }
   ],
   "source": [
    "def remove_bed_outliers(df):\n",
    "    exclude_indices = np.array([])\n",
    "    for sublocality, sublocality_df in df.groupby('SUBLOCALITY'):\n",
    "        beds_stats = {}\n",
    "        for beds, beds_df in sublocality_df.groupby('BEDS'):\n",
    "            beds_stats[beds] = {\n",
    "                'mean': np.mean(beds_df.PRICE_PER_SQFT),\n",
    "                'std': np.std(beds_df.PRICE_PER_SQFT),\n",
    "                'count': beds_df.shape[0]\n",
    "            }\n",
    "        for beds, beds_df in sublocality_df.groupby('BEDS'):\n",
    "            stats = beds_stats.get(beds-1)\n",
    "            if stats and stats['count']>5:\n",
    "                exclude_indices = np.append(\n",
    "                    exclude_indices,\n",
    "                    beds_df[beds_df.PRICE_PER_SQFT<(stats['mean'])].index.values\n",
    "                )\n",
    "    return df.drop(exclude_indices, axis='index')\n",
    "\n",
    "df5 = remove_bed_outliers(df4)\n",
    "df5.shape"
   ]
  },
  {
   "cell_type": "markdown",
   "metadata": {},
   "source": [
    "After removing the outliers, let's plot the scatter plot for the 'BEDS' and 'PROPERTYSQFT' columns again."
   ]
  },
  {
   "cell_type": "code",
   "execution_count": 104,
   "metadata": {},
   "outputs": [
    {
     "data": {
      "image/png": "[encoded data removed]",
      "text/plain": [
       "<Figure size 1500x1000 with 1 Axes>"
      ]
     },
     "metadata": {},
     "output_type": "display_data"
    }
   ],
   "source": [
    "plot_scatter_chart(df5, \"Queens\")"
   ]
  },
  {
   "cell_type": "markdown",
   "metadata": {},
   "source": [
    "Something is clearly wrong with the 'PROPERTYSQFT' column. We're going to remove the outliers of this column using the z-score."
   ]
  },
  {
   "cell_type": "markdown",
   "metadata": {},
   "source": []
  },
  {
   "cell_type": "code",
   "execution_count": 105,
   "metadata": {},
   "outputs": [
    {
     "data": {
      "text/plain": [
       "(2609, 6)"
      ]
     },
     "execution_count": 105,
     "metadata": {},
     "output_type": "execute_result"
    },
    {
     "data": {
      "image/png": "[encoded data removed]",
      "text/plain": [
       "<Figure size 1500x1000 with 1 Axes>"
      ]
     },
     "metadata": {},
     "output_type": "display_data"
    }
   ],
   "source": [
    "def remove_outliers(df, column_x, column_y, threshold=3):\n",
    "    # Calculate the Z-scores for the y column\n",
    "    mean_y = np.mean(df[column_y])\n",
    "    std_y = np.std(df[column_y])\n",
    "    df['z_score_y'] = (df[column_y] - mean_y) / std_y\n",
    "    \n",
    "    # Filter out the outliers\n",
    "    df_filtered = df[np.abs(df['z_score_y']) < threshold]\n",
    "    \n",
    "    # Drop the z_score_y column\n",
    "    df_filtered = df_filtered.drop(columns=['z_score_y'])\n",
    "    \n",
    "    return df_filtered\n",
    "\n",
    "# Example usage\n",
    "# Assuming df is your DataFrame and 'PROPERTYSQFT' is the x column and 'PRICE_PER_SQFT' is the y column\n",
    "df6 = remove_outliers(df5, 'PROPERTYSQFT', 'PRICE_PER_SQFT')\n",
    "\n",
    "# Plotting the filtered data\n",
    "def plot_data(df, column_x, column_y):\n",
    "    plt.figure(figsize=(10, 6))\n",
    "    plt.scatter(df[df['BEDS'] == 2][column_x], df[df['BEDS'] == 2][column_y], label='2 bedrooms', color='blue')\n",
    "    plt.scatter(df[df['BEDS'] == 3][column_x], df[df['BEDS'] == 3][column_y], label='3 bedrooms', color='green', marker='+')\n",
    "    plt.xlabel('Total Square Feet Area')\n",
    "    plt.ylabel('Price Per Square Feet')\n",
    "    plt.title('Staten Island')\n",
    "    plt.legend()\n",
    "    plt.show()\n",
    "\n",
    "# Assuming df_filtered is your DataFrame after removing outliers\n",
    "plot_scatter_chart(df6, \"Queens\")\n",
    "df6.shape\n",
    "\n",
    "\n"
   ]
  },
  {
   "cell_type": "markdown",
   "metadata": {},
   "source": [
    "Now let's use an histogram to visualize the data distribution of the 'PRICE_PER_SQFT' column."
   ]
  },
  {
   "cell_type": "code",
   "execution_count": 106,
   "metadata": {},
   "outputs": [
    {
     "data": {
      "text/plain": [
       "Text(0, 0.5, 'Count')"
      ]
     },
     "execution_count": 106,
     "metadata": {},
     "output_type": "execute_result"
    },
    {
     "data": {
      "image/png": "[encoded data removed]",
      "text/plain": [
       "<Figure size 2000x1000 with 1 Axes>"
      ]
     },
     "metadata": {},
     "output_type": "display_data"
    }
   ],
   "source": [
    "matplotlib.rcParams[\"figure.figsize\"] = (20,10)\n",
    "plt.hist(df6.PRICE_PER_SQFT, rwidth=0.8)\n",
    "plt.xlabel('Price Per Square Feet')\n",
    "plt.ylabel('Count')"
   ]
  },
  {
   "cell_type": "code",
   "execution_count": 109,
   "metadata": {},
   "outputs": [
    {
     "data": {
      "text/html": [
       "<div>\n",
       "<style scoped>\n",
       "    .dataframe tbody tr th:only-of-type {\n",
       "        vertical-align: middle;\n",
       "    }\n",
       "\n",
       "    .dataframe tbody tr th {\n",
       "        vertical-align: top;\n",
       "    }\n",
       "\n",
       "    .dataframe thead th {\n",
       "        text-align: right;\n",
       "    }\n",
       "</style>\n",
       "<table border=\"1\" class=\"dataframe\">\n",
       "  <thead>\n",
       "    <tr style=\"text-align: right;\">\n",
       "      <th></th>\n",
       "      <th>PRICE</th>\n",
       "      <th>BEDS</th>\n",
       "      <th>BATH</th>\n",
       "      <th>PROPERTYSQFT</th>\n",
       "      <th>SUBLOCALITY</th>\n",
       "      <th>PRICE_PER_SQFT</th>\n",
       "    </tr>\n",
       "  </thead>\n",
       "  <tbody>\n",
       "    <tr>\n",
       "      <th>119</th>\n",
       "      <td>1195000</td>\n",
       "      <td>11</td>\n",
       "      <td>6</td>\n",
       "      <td>2184.207862</td>\n",
       "      <td>Bronx</td>\n",
       "      <td>547.109101</td>\n",
       "    </tr>\n",
       "    <tr>\n",
       "      <th>249</th>\n",
       "      <td>1299000</td>\n",
       "      <td>11</td>\n",
       "      <td>8</td>\n",
       "      <td>4560.000000</td>\n",
       "      <td>Bronx</td>\n",
       "      <td>284.868421</td>\n",
       "    </tr>\n",
       "    <tr>\n",
       "      <th>250</th>\n",
       "      <td>1279000</td>\n",
       "      <td>16</td>\n",
       "      <td>8</td>\n",
       "      <td>3550.000000</td>\n",
       "      <td>Bronx</td>\n",
       "      <td>360.281690</td>\n",
       "    </tr>\n",
       "    <tr>\n",
       "      <th>498</th>\n",
       "      <td>8750000</td>\n",
       "      <td>6</td>\n",
       "      <td>6</td>\n",
       "      <td>2184.207862</td>\n",
       "      <td>Brooklyn</td>\n",
       "      <td>4006.028983</td>\n",
       "    </tr>\n",
       "    <tr>\n",
       "      <th>533</th>\n",
       "      <td>3000000</td>\n",
       "      <td>10</td>\n",
       "      <td>10</td>\n",
       "      <td>2184.207862</td>\n",
       "      <td>Brooklyn</td>\n",
       "      <td>1373.495651</td>\n",
       "    </tr>\n",
       "    <tr>\n",
       "      <th>...</th>\n",
       "      <td>...</td>\n",
       "      <td>...</td>\n",
       "      <td>...</td>\n",
       "      <td>...</td>\n",
       "      <td>...</td>\n",
       "      <td>...</td>\n",
       "    </tr>\n",
       "    <tr>\n",
       "      <th>3893</th>\n",
       "      <td>3750000</td>\n",
       "      <td>13</td>\n",
       "      <td>8</td>\n",
       "      <td>2184.207862</td>\n",
       "      <td>Queens</td>\n",
       "      <td>1716.869564</td>\n",
       "    </tr>\n",
       "    <tr>\n",
       "      <th>3921</th>\n",
       "      <td>2780000</td>\n",
       "      <td>14</td>\n",
       "      <td>9</td>\n",
       "      <td>2184.207862</td>\n",
       "      <td>Queens</td>\n",
       "      <td>1272.772637</td>\n",
       "    </tr>\n",
       "    <tr>\n",
       "      <th>3956</th>\n",
       "      <td>2499000</td>\n",
       "      <td>18</td>\n",
       "      <td>12</td>\n",
       "      <td>2520.000000</td>\n",
       "      <td>Queens</td>\n",
       "      <td>991.666667</td>\n",
       "    </tr>\n",
       "    <tr>\n",
       "      <th>4043</th>\n",
       "      <td>1299888</td>\n",
       "      <td>10</td>\n",
       "      <td>6</td>\n",
       "      <td>3156.000000</td>\n",
       "      <td>Staten Island</td>\n",
       "      <td>411.878327</td>\n",
       "    </tr>\n",
       "    <tr>\n",
       "      <th>4271</th>\n",
       "      <td>1550000</td>\n",
       "      <td>12</td>\n",
       "      <td>7</td>\n",
       "      <td>3000.000000</td>\n",
       "      <td>Staten Island</td>\n",
       "      <td>516.666667</td>\n",
       "    </tr>\n",
       "  </tbody>\n",
       "</table>\n",
       "<p>62 rows × 6 columns</p>\n",
       "</div>"
      ],
      "text/plain": [
       "        PRICE  BEDS  BATH  PROPERTYSQFT    SUBLOCALITY  PRICE_PER_SQFT\n",
       "119   1195000    11     6   2184.207862          Bronx      547.109101\n",
       "249   1299000    11     8   4560.000000          Bronx      284.868421\n",
       "250   1279000    16     8   3550.000000          Bronx      360.281690\n",
       "498   8750000     6     6   2184.207862       Brooklyn     4006.028983\n",
       "533   3000000    10    10   2184.207862       Brooklyn     1373.495651\n",
       "...       ...   ...   ...           ...            ...             ...\n",
       "3893  3750000    13     8   2184.207862         Queens     1716.869564\n",
       "3921  2780000    14     9   2184.207862         Queens     1272.772637\n",
       "3956  2499000    18    12   2520.000000         Queens      991.666667\n",
       "4043  1299888    10     6   3156.000000  Staten Island      411.878327\n",
       "4271  1550000    12     7   3000.000000  Staten Island      516.666667\n",
       "\n",
       "[62 rows x 6 columns]"
      ]
     },
     "execution_count": 109,
     "metadata": {},
     "output_type": "execute_result"
    }
   ],
   "source": [
    "df6.BATH.unique()\n",
    "df6[df6.BATH>5]"
   ]
  },
  {
   "cell_type": "code",
   "execution_count": 114,
   "metadata": {},
   "outputs": [
    {
     "data": {
      "text/html": [
       "<div>\n",
       "<style scoped>\n",
       "    .dataframe tbody tr th:only-of-type {\n",
       "        vertical-align: middle;\n",
       "    }\n",
       "\n",
       "    .dataframe tbody tr th {\n",
       "        vertical-align: top;\n",
       "    }\n",
       "\n",
       "    .dataframe thead th {\n",
       "        text-align: right;\n",
       "    }\n",
       "</style>\n",
       "<table border=\"1\" class=\"dataframe\">\n",
       "  <thead>\n",
       "    <tr style=\"text-align: right;\">\n",
       "      <th></th>\n",
       "      <th>PRICE</th>\n",
       "      <th>BEDS</th>\n",
       "      <th>BATH</th>\n",
       "      <th>PROPERTYSQFT</th>\n",
       "      <th>SUBLOCALITY</th>\n",
       "      <th>PRICE_PER_SQFT</th>\n",
       "    </tr>\n",
       "  </thead>\n",
       "  <tbody>\n",
       "    <tr>\n",
       "      <th>119</th>\n",
       "      <td>1195000</td>\n",
       "      <td>11</td>\n",
       "      <td>6</td>\n",
       "      <td>2184.207862</td>\n",
       "      <td>Bronx</td>\n",
       "      <td>547.109101</td>\n",
       "    </tr>\n",
       "    <tr>\n",
       "      <th>249</th>\n",
       "      <td>1299000</td>\n",
       "      <td>11</td>\n",
       "      <td>8</td>\n",
       "      <td>4560.000000</td>\n",
       "      <td>Bronx</td>\n",
       "      <td>284.868421</td>\n",
       "    </tr>\n",
       "    <tr>\n",
       "      <th>250</th>\n",
       "      <td>1279000</td>\n",
       "      <td>16</td>\n",
       "      <td>8</td>\n",
       "      <td>3550.000000</td>\n",
       "      <td>Bronx</td>\n",
       "      <td>360.281690</td>\n",
       "    </tr>\n",
       "    <tr>\n",
       "      <th>498</th>\n",
       "      <td>8750000</td>\n",
       "      <td>6</td>\n",
       "      <td>6</td>\n",
       "      <td>2184.207862</td>\n",
       "      <td>Brooklyn</td>\n",
       "      <td>4006.028983</td>\n",
       "    </tr>\n",
       "    <tr>\n",
       "      <th>533</th>\n",
       "      <td>3000000</td>\n",
       "      <td>10</td>\n",
       "      <td>10</td>\n",
       "      <td>2184.207862</td>\n",
       "      <td>Brooklyn</td>\n",
       "      <td>1373.495651</td>\n",
       "    </tr>\n",
       "    <tr>\n",
       "      <th>...</th>\n",
       "      <td>...</td>\n",
       "      <td>...</td>\n",
       "      <td>...</td>\n",
       "      <td>...</td>\n",
       "      <td>...</td>\n",
       "      <td>...</td>\n",
       "    </tr>\n",
       "    <tr>\n",
       "      <th>3893</th>\n",
       "      <td>3750000</td>\n",
       "      <td>13</td>\n",
       "      <td>8</td>\n",
       "      <td>2184.207862</td>\n",
       "      <td>Queens</td>\n",
       "      <td>1716.869564</td>\n",
       "    </tr>\n",
       "    <tr>\n",
       "      <th>3921</th>\n",
       "      <td>2780000</td>\n",
       "      <td>14</td>\n",
       "      <td>9</td>\n",
       "      <td>2184.207862</td>\n",
       "      <td>Queens</td>\n",
       "      <td>1272.772637</td>\n",
       "    </tr>\n",
       "    <tr>\n",
       "      <th>3956</th>\n",
       "      <td>2499000</td>\n",
       "      <td>18</td>\n",
       "      <td>12</td>\n",
       "      <td>2520.000000</td>\n",
       "      <td>Queens</td>\n",
       "      <td>991.666667</td>\n",
       "    </tr>\n",
       "    <tr>\n",
       "      <th>4043</th>\n",
       "      <td>1299888</td>\n",
       "      <td>10</td>\n",
       "      <td>6</td>\n",
       "      <td>3156.000000</td>\n",
       "      <td>Staten Island</td>\n",
       "      <td>411.878327</td>\n",
       "    </tr>\n",
       "    <tr>\n",
       "      <th>4271</th>\n",
       "      <td>1550000</td>\n",
       "      <td>12</td>\n",
       "      <td>7</td>\n",
       "      <td>3000.000000</td>\n",
       "      <td>Staten Island</td>\n",
       "      <td>516.666667</td>\n",
       "    </tr>\n",
       "  </tbody>\n",
       "</table>\n",
       "<p>62 rows × 6 columns</p>\n",
       "</div>"
      ],
      "text/plain": [
       "        PRICE  BEDS  BATH  PROPERTYSQFT    SUBLOCALITY  PRICE_PER_SQFT\n",
       "119   1195000    11     6   2184.207862          Bronx      547.109101\n",
       "249   1299000    11     8   4560.000000          Bronx      284.868421\n",
       "250   1279000    16     8   3550.000000          Bronx      360.281690\n",
       "498   8750000     6     6   2184.207862       Brooklyn     4006.028983\n",
       "533   3000000    10    10   2184.207862       Brooklyn     1373.495651\n",
       "...       ...   ...   ...           ...            ...             ...\n",
       "3893  3750000    13     8   2184.207862         Queens     1716.869564\n",
       "3921  2780000    14     9   2184.207862         Queens     1272.772637\n",
       "3956  2499000    18    12   2520.000000         Queens      991.666667\n",
       "4043  1299888    10     6   3156.000000  Staten Island      411.878327\n",
       "4271  1550000    12     7   3000.000000  Staten Island      516.666667\n",
       "\n",
       "[62 rows x 6 columns]"
      ]
     },
     "execution_count": 114,
     "metadata": {},
     "output_type": "execute_result"
    }
   ],
   "source": [
    "df6.BATH.unique()\n",
    "df6[df6.BATH>5]"
   ]
  },
  {
   "cell_type": "code",
   "execution_count": 115,
   "metadata": {},
   "outputs": [
    {
     "data": {
      "text/plain": [
       "Text(0, 0.5, 'Count')"
      ]
     },
     "execution_count": 115,
     "metadata": {},
     "output_type": "execute_result"
    },
    {
     "data": {
      "image/png": "[encoded data removed]",
      "text/plain": [
       "<Figure size 2000x1000 with 1 Axes>"
      ]
     },
     "metadata": {},
     "output_type": "display_data"
    }
   ],
   "source": [
    "plt.hist(df6.BATH, rwidth=0.8)\n",
    "plt.xlabel('Number of Bathrooms')\n",
    "plt.ylabel('Count')"
   ]
  },
  {
   "cell_type": "code",
   "execution_count": 116,
   "metadata": {},
   "outputs": [
    {
     "data": {
      "text/html": [
       "<div>\n",
       "<style scoped>\n",
       "    .dataframe tbody tr th:only-of-type {\n",
       "        vertical-align: middle;\n",
       "    }\n",
       "\n",
       "    .dataframe tbody tr th {\n",
       "        vertical-align: top;\n",
       "    }\n",
       "\n",
       "    .dataframe thead th {\n",
       "        text-align: right;\n",
       "    }\n",
       "</style>\n",
       "<table border=\"1\" class=\"dataframe\">\n",
       "  <thead>\n",
       "    <tr style=\"text-align: right;\">\n",
       "      <th></th>\n",
       "      <th>PRICE</th>\n",
       "      <th>BEDS</th>\n",
       "      <th>BATH</th>\n",
       "      <th>PROPERTYSQFT</th>\n",
       "      <th>SUBLOCALITY</th>\n",
       "      <th>PRICE_PER_SQFT</th>\n",
       "    </tr>\n",
       "  </thead>\n",
       "  <tbody>\n",
       "    <tr>\n",
       "      <th>619</th>\n",
       "      <td>2295000</td>\n",
       "      <td>3</td>\n",
       "      <td>7</td>\n",
       "      <td>2184.207862</td>\n",
       "      <td>Brooklyn</td>\n",
       "      <td>1050.724173</td>\n",
       "    </tr>\n",
       "    <tr>\n",
       "      <th>1556</th>\n",
       "      <td>3400000</td>\n",
       "      <td>3</td>\n",
       "      <td>8</td>\n",
       "      <td>2184.207862</td>\n",
       "      <td>Brooklyn</td>\n",
       "      <td>1556.628405</td>\n",
       "    </tr>\n",
       "  </tbody>\n",
       "</table>\n",
       "</div>"
      ],
      "text/plain": [
       "        PRICE  BEDS  BATH  PROPERTYSQFT SUBLOCALITY  PRICE_PER_SQFT\n",
       "619   2295000     3     7   2184.207862    Brooklyn     1050.724173\n",
       "1556  3400000     3     8   2184.207862    Brooklyn     1556.628405"
      ]
     },
     "execution_count": 116,
     "metadata": {},
     "output_type": "execute_result"
    }
   ],
   "source": [
    "df6[df6.BATH>df6.BEDS+2]\n"
   ]
  },
  {
   "cell_type": "code",
   "execution_count": 118,
   "metadata": {},
   "outputs": [
    {
     "data": {
      "text/plain": [
       "(2607, 6)"
      ]
     },
     "execution_count": 118,
     "metadata": {},
     "output_type": "execute_result"
    }
   ],
   "source": [
    "df7 = df6[~(df6.BATH>df6.BEDS+2)]\n",
    "df7.shape"
   ]
  },
  {
   "cell_type": "markdown",
   "metadata": {},
   "source": [
    "After removing the outliers for the bathrooms, then we're longer going to use the 'PRICE_PER_SQFT' column. We're going to drop it."
   ]
  },
  {
   "cell_type": "code",
   "execution_count": 120,
   "metadata": {},
   "outputs": [
    {
     "data": {
      "text/html": [
       "<div>\n",
       "<style scoped>\n",
       "    .dataframe tbody tr th:only-of-type {\n",
       "        vertical-align: middle;\n",
       "    }\n",
       "\n",
       "    .dataframe tbody tr th {\n",
       "        vertical-align: top;\n",
       "    }\n",
       "\n",
       "    .dataframe thead th {\n",
       "        text-align: right;\n",
       "    }\n",
       "</style>\n",
       "<table border=\"1\" class=\"dataframe\">\n",
       "  <thead>\n",
       "    <tr style=\"text-align: right;\">\n",
       "      <th></th>\n",
       "      <th>PRICE</th>\n",
       "      <th>BEDS</th>\n",
       "      <th>BATH</th>\n",
       "      <th>PROPERTYSQFT</th>\n",
       "      <th>SUBLOCALITY</th>\n",
       "    </tr>\n",
       "  </thead>\n",
       "  <tbody>\n",
       "    <tr>\n",
       "      <th>0</th>\n",
       "      <td>265000</td>\n",
       "      <td>1</td>\n",
       "      <td>1</td>\n",
       "      <td>750.000000</td>\n",
       "      <td>Bronx</td>\n",
       "    </tr>\n",
       "    <tr>\n",
       "      <th>1</th>\n",
       "      <td>375000</td>\n",
       "      <td>2</td>\n",
       "      <td>1</td>\n",
       "      <td>850.000000</td>\n",
       "      <td>Bronx</td>\n",
       "    </tr>\n",
       "    <tr>\n",
       "      <th>2</th>\n",
       "      <td>350000</td>\n",
       "      <td>1</td>\n",
       "      <td>1</td>\n",
       "      <td>700.000000</td>\n",
       "      <td>Bronx</td>\n",
       "    </tr>\n",
       "    <tr>\n",
       "      <th>6</th>\n",
       "      <td>199900</td>\n",
       "      <td>1</td>\n",
       "      <td>1</td>\n",
       "      <td>2184.207862</td>\n",
       "      <td>Bronx</td>\n",
       "    </tr>\n",
       "    <tr>\n",
       "      <th>8</th>\n",
       "      <td>600000</td>\n",
       "      <td>2</td>\n",
       "      <td>2</td>\n",
       "      <td>2184.207862</td>\n",
       "      <td>Bronx</td>\n",
       "    </tr>\n",
       "  </tbody>\n",
       "</table>\n",
       "</div>"
      ],
      "text/plain": [
       "    PRICE  BEDS  BATH  PROPERTYSQFT SUBLOCALITY\n",
       "0  265000     1     1    750.000000       Bronx\n",
       "1  375000     2     1    850.000000       Bronx\n",
       "2  350000     1     1    700.000000       Bronx\n",
       "6  199900     1     1   2184.207862       Bronx\n",
       "8  600000     2     2   2184.207862       Bronx"
      ]
     },
     "execution_count": 120,
     "metadata": {},
     "output_type": "execute_result"
    }
   ],
   "source": [
    "df8 = df7.drop(columns=['PRICE_PER_SQFT'])\n",
    "df8.head()"
   ]
  },
  {
   "cell_type": "markdown",
   "metadata": {},
   "source": [
    "Let's hot encode the 'SUBLOCALITY' column."
   ]
  },
  {
   "cell_type": "code",
   "execution_count": 121,
   "metadata": {},
   "outputs": [
    {
     "data": {
      "text/html": [
       "<div>\n",
       "<style scoped>\n",
       "    .dataframe tbody tr th:only-of-type {\n",
       "        vertical-align: middle;\n",
       "    }\n",
       "\n",
       "    .dataframe tbody tr th {\n",
       "        vertical-align: top;\n",
       "    }\n",
       "\n",
       "    .dataframe thead th {\n",
       "        text-align: right;\n",
       "    }\n",
       "</style>\n",
       "<table border=\"1\" class=\"dataframe\">\n",
       "  <thead>\n",
       "    <tr style=\"text-align: right;\">\n",
       "      <th></th>\n",
       "      <th>Bronx</th>\n",
       "      <th>Brooklyn</th>\n",
       "      <th>Manhattan</th>\n",
       "      <th>Queens</th>\n",
       "      <th>Staten Island</th>\n",
       "    </tr>\n",
       "  </thead>\n",
       "  <tbody>\n",
       "    <tr>\n",
       "      <th>0</th>\n",
       "      <td>True</td>\n",
       "      <td>False</td>\n",
       "      <td>False</td>\n",
       "      <td>False</td>\n",
       "      <td>False</td>\n",
       "    </tr>\n",
       "    <tr>\n",
       "      <th>1</th>\n",
       "      <td>True</td>\n",
       "      <td>False</td>\n",
       "      <td>False</td>\n",
       "      <td>False</td>\n",
       "      <td>False</td>\n",
       "    </tr>\n",
       "    <tr>\n",
       "      <th>2</th>\n",
       "      <td>True</td>\n",
       "      <td>False</td>\n",
       "      <td>False</td>\n",
       "      <td>False</td>\n",
       "      <td>False</td>\n",
       "    </tr>\n",
       "    <tr>\n",
       "      <th>6</th>\n",
       "      <td>True</td>\n",
       "      <td>False</td>\n",
       "      <td>False</td>\n",
       "      <td>False</td>\n",
       "      <td>False</td>\n",
       "    </tr>\n",
       "    <tr>\n",
       "      <th>8</th>\n",
       "      <td>True</td>\n",
       "      <td>False</td>\n",
       "      <td>False</td>\n",
       "      <td>False</td>\n",
       "      <td>False</td>\n",
       "    </tr>\n",
       "  </tbody>\n",
       "</table>\n",
       "</div>"
      ],
      "text/plain": [
       "   Bronx  Brooklyn  Manhattan  Queens  Staten Island\n",
       "0   True     False      False   False          False\n",
       "1   True     False      False   False          False\n",
       "2   True     False      False   False          False\n",
       "6   True     False      False   False          False\n",
       "8   True     False      False   False          False"
      ]
     },
     "execution_count": 121,
     "metadata": {},
     "output_type": "execute_result"
    }
   ],
   "source": [
    "pd.get_dummies(df8.SUBLOCALITY)\n",
    "dummies = pd.get_dummies(df8.SUBLOCALITY)\n",
    "dummies.head()"
   ]
  },
  {
   "cell_type": "code",
   "execution_count": 122,
   "metadata": {},
   "outputs": [
    {
     "data": {
      "text/html": [
       "<div>\n",
       "<style scoped>\n",
       "    .dataframe tbody tr th:only-of-type {\n",
       "        vertical-align: middle;\n",
       "    }\n",
       "\n",
       "    .dataframe tbody tr th {\n",
       "        vertical-align: top;\n",
       "    }\n",
       "\n",
       "    .dataframe thead th {\n",
       "        text-align: right;\n",
       "    }\n",
       "</style>\n",
       "<table border=\"1\" class=\"dataframe\">\n",
       "  <thead>\n",
       "    <tr style=\"text-align: right;\">\n",
       "      <th></th>\n",
       "      <th>PRICE</th>\n",
       "      <th>BEDS</th>\n",
       "      <th>BATH</th>\n",
       "      <th>PROPERTYSQFT</th>\n",
       "      <th>SUBLOCALITY</th>\n",
       "      <th>Bronx</th>\n",
       "      <th>Brooklyn</th>\n",
       "      <th>Manhattan</th>\n",
       "      <th>Queens</th>\n",
       "      <th>Staten Island</th>\n",
       "    </tr>\n",
       "  </thead>\n",
       "  <tbody>\n",
       "    <tr>\n",
       "      <th>0</th>\n",
       "      <td>265000</td>\n",
       "      <td>1</td>\n",
       "      <td>1</td>\n",
       "      <td>750.000000</td>\n",
       "      <td>Bronx</td>\n",
       "      <td>True</td>\n",
       "      <td>False</td>\n",
       "      <td>False</td>\n",
       "      <td>False</td>\n",
       "      <td>False</td>\n",
       "    </tr>\n",
       "    <tr>\n",
       "      <th>1</th>\n",
       "      <td>375000</td>\n",
       "      <td>2</td>\n",
       "      <td>1</td>\n",
       "      <td>850.000000</td>\n",
       "      <td>Bronx</td>\n",
       "      <td>True</td>\n",
       "      <td>False</td>\n",
       "      <td>False</td>\n",
       "      <td>False</td>\n",
       "      <td>False</td>\n",
       "    </tr>\n",
       "    <tr>\n",
       "      <th>2</th>\n",
       "      <td>350000</td>\n",
       "      <td>1</td>\n",
       "      <td>1</td>\n",
       "      <td>700.000000</td>\n",
       "      <td>Bronx</td>\n",
       "      <td>True</td>\n",
       "      <td>False</td>\n",
       "      <td>False</td>\n",
       "      <td>False</td>\n",
       "      <td>False</td>\n",
       "    </tr>\n",
       "    <tr>\n",
       "      <th>6</th>\n",
       "      <td>199900</td>\n",
       "      <td>1</td>\n",
       "      <td>1</td>\n",
       "      <td>2184.207862</td>\n",
       "      <td>Bronx</td>\n",
       "      <td>True</td>\n",
       "      <td>False</td>\n",
       "      <td>False</td>\n",
       "      <td>False</td>\n",
       "      <td>False</td>\n",
       "    </tr>\n",
       "    <tr>\n",
       "      <th>8</th>\n",
       "      <td>600000</td>\n",
       "      <td>2</td>\n",
       "      <td>2</td>\n",
       "      <td>2184.207862</td>\n",
       "      <td>Bronx</td>\n",
       "      <td>True</td>\n",
       "      <td>False</td>\n",
       "      <td>False</td>\n",
       "      <td>False</td>\n",
       "      <td>False</td>\n",
       "    </tr>\n",
       "  </tbody>\n",
       "</table>\n",
       "</div>"
      ],
      "text/plain": [
       "    PRICE  BEDS  BATH  PROPERTYSQFT SUBLOCALITY  Bronx  Brooklyn  Manhattan  \\\n",
       "0  265000     1     1    750.000000       Bronx   True     False      False   \n",
       "1  375000     2     1    850.000000       Bronx   True     False      False   \n",
       "2  350000     1     1    700.000000       Bronx   True     False      False   \n",
       "6  199900     1     1   2184.207862       Bronx   True     False      False   \n",
       "8  600000     2     2   2184.207862       Bronx   True     False      False   \n",
       "\n",
       "   Queens  Staten Island  \n",
       "0   False          False  \n",
       "1   False          False  \n",
       "2   False          False  \n",
       "6   False          False  \n",
       "8   False          False  "
      ]
     },
     "execution_count": 122,
     "metadata": {},
     "output_type": "execute_result"
    }
   ],
   "source": [
    "df9 = pd.concat([df8,dummies], axis='columns')\n",
    "df9.head()"
   ]
  },
  {
   "cell_type": "code",
   "execution_count": 124,
   "metadata": {},
   "outputs": [
    {
     "data": {
      "text/plain": [
       "(2607, 9)"
      ]
     },
     "execution_count": 124,
     "metadata": {},
     "output_type": "execute_result"
    }
   ],
   "source": [
    "df10 = df9.drop(columns=['SUBLOCALITY'])\n",
    "df10.head()\n",
    "df10.shape"
   ]
  },
  {
   "cell_type": "markdown",
   "metadata": {},
   "source": [
    "Let's save the cleaned dataset."
   ]
  },
  {
   "cell_type": "code",
   "execution_count": 126,
   "metadata": {},
   "outputs": [],
   "source": [
    "df10.to_csv('NY-House-Dataset-Preprocessed.csv', index=False)"
   ]
  },
  {
   "cell_type": "markdown",
   "metadata": {},
   "source": [
    "At this point we're almost finish, let's define our dataframe X and Y."
   ]
  },
  {
   "cell_type": "code",
   "execution_count": 125,
   "metadata": {},
   "outputs": [],
   "source": [
    "X = df10.drop(columns=['PRICE'])\n",
    "Y = df10.PRICE"
   ]
  },
  {
   "cell_type": "markdown",
   "metadata": {},
   "source": [
    "Let's split the data into training and testing sets."
   ]
  },
  {
   "cell_type": "code",
   "execution_count": null,
   "metadata": {},
   "outputs": [],
   "source": [
    "from sklearn.model_selection import train_test_split\n",
    "X_train, X_test, Y_train, Y_test = train_test_split(X, Y, test_size=0.2, random_state=10)"
   ]
  }
 ],
 "metadata": {
  "kernelspec": {
   "display_name": "ML",
   "language": "python",
   "name": "python3"
  },
  "language_info": {
   "codemirror_mode": {
    "name": "ipython",
    "version": 3
   },
   "file_extension": ".py",
   "mimetype": "text/x-python",
   "name": "python",
   "nbconvert_exporter": "python",
   "pygments_lexer": "ipython3",
   "version": "3.12.3"
  }
 },
 "nbformat": 4,
 "nbformat_minor": 2
}
